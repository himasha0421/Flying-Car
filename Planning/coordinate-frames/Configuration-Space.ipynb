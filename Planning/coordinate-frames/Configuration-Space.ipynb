{
 "cells": [
  {
   "cell_type": "markdown",
   "metadata": {},
   "source": [
    "## Confguration Space\n",
    "\n",
    "In this notebook you'll create a configuration space given a map of the world and setting a particular altitude for your drone. You'll read in a `.csv` file containing obstacle data which consists of six columns $x$, $y$, $z$ and $\\delta x$, $\\delta y$, $\\delta z$.\n",
    "\n",
    "You can look at the `.csv` file [here](/edit/colliders.csv). The first line gives the map center coordinates and the file is arranged such that:\n",
    "\n",
    "* $x$ -> NORTH\n",
    "* $y$ -> EAST\n",
    "* $z$ -> ALTITUDE (positive up, note the difference with NED coords)\n",
    "\n",
    "Each $(x, y, z)$ coordinate is the center of an obstacle. $\\delta x$, $\\delta y$, $\\delta z$ are the half widths of the obstacles, meaning for example that an obstacle with $(x = 37, y = 12, z = 8)$ and $(\\delta x = 5, \\delta y = 5, \\delta z = 8)$ is a 10 x 10 m obstacle that is 16 m high and is centered at the point $(x, y) = (37, 12)$ at a height of 8 m.\n",
    "\n",
    "Given a map like this, the free space in the $(x, y)$ plane is a function of altitude, and you can plan a path around an obstacle, or simply fly over it! You'll extend each obstacle by a safety margin to create the equivalent of a 3 dimensional configuration space. \n",
    "\n",
    "Your task is to extract a 2D grid map at 1 metre resolution of your configuration space for a particular altitude, where each value is assigned either a 0 or 1 representing feasible or infeasible (obstacle) spaces respectively."
   ]
  },
  {
   "cell_type": "markdown",
   "metadata": {},
   "source": [
    "The end result should look something like this ... (colours aren't important)\n",
    "\n",
    "![title](grid_map.png)"
   ]
  },
  {
   "cell_type": "code",
   "execution_count": 1,
   "metadata": {},
   "outputs": [],
   "source": [
    "import numpy as np \n",
    "import matplotlib.pyplot as plt\n",
    "\n",
    "%matplotlib inline"
   ]
  },
  {
   "cell_type": "code",
   "execution_count": 2,
   "metadata": {},
   "outputs": [],
   "source": [
    "plt.rcParams[\"figure.figsize\"] = [12, 12]"
   ]
  },
  {
   "cell_type": "markdown",
   "metadata": {},
   "source": [
    "Read the csv file which contains the coordinates of the obstacles. "
   ]
  },
  {
   "cell_type": "code",
   "execution_count": 3,
   "metadata": {},
   "outputs": [
    {
     "output_type": "stream",
     "name": "stdout",
     "text": "[[-310.2389   -439.2315     85.5         5.          5.         85.5     ]\n [-300.2389   -439.2315     85.5         5.          5.         85.5     ]\n [-290.2389   -439.2315     85.5         5.          5.         85.5     ]\n ...\n [ 257.8061    425.1645      1.75852     1.292725    1.292725    1.944791]\n [ 293.9967    368.3391      3.557666    1.129456    1.129456    3.667319]\n [ 281.5162    354.4156      4.999351    1.053772    1.053772    4.950246]]\n"
    }
   ],
   "source": [
    "filename = 'colliders.csv'\n",
    "# Read in the data skipping the first two lines.  \n",
    "# Note: the first line contains the latitude and longitude of map center\n",
    "# Where is this??\n",
    "data = np.loadtxt(filename,delimiter=',',dtype='Float64',skiprows=2)\n",
    "print(data)"
   ]
  },
  {
   "cell_type": "code",
   "execution_count": 76,
   "metadata": {},
   "outputs": [],
   "source": [
    "# Static drone altitude (metres)\n",
    "drone_altitude = 10\n",
    "\n",
    "# Minimum distance required to stay away from an obstacle (metres)\n",
    "# Think of this as padding around the obstacles.\n",
    "safe_distance = 3"
   ]
  },
  {
   "cell_type": "markdown",
   "metadata": {},
   "source": [
    "The given function will take the data from the file describing the obstacles city and will return a 2D grid representation showing open and closed spaces."
   ]
  },
  {
   "cell_type": "code",
   "execution_count": 77,
   "metadata": {},
   "outputs": [],
   "source": [
    "def create_grid(data, drone_altitude, safety_distance):\n",
    "    \"\"\"\n",
    "    Returns a grid representation of a 2D configuration space\n",
    "    based on given obstacle data, drone altitude and safety distance\n",
    "    arguments.\n",
    "    \"\"\"\n",
    "\n",
    "    # minimum and maximum north coordinates\n",
    "    north_min = np.floor(np.amin(data[:, 0] - data[:, 3]))\n",
    "    north_max = np.ceil(np.amax(data[:, 0] + data[:, 3]))\n",
    "\n",
    "    # minimum and maximum east coordinates\n",
    "    east_min = np.floor(np.amin(data[:, 1] - data[:, 4]))\n",
    "    east_max = np.ceil(np.amax(data[:, 1] + data[:, 4]))\n",
    "\n",
    "    # given the minimum and maximum coordinates we can\n",
    "    # calculate the size of the grid.\n",
    "    north_size = int(np.ceil(north_max - north_min))\n",
    "    east_size = int(np.ceil(east_max - east_min))\n",
    "    # Initialize an empty grid\n",
    "    grid = np.zeros((north_size, east_size))\n",
    "    # Center offset for grid\n",
    "    north_min_center = np.min(data[:, 0])\n",
    "    east_min_center = np.min(data[:, 1])\n",
    "    # Populate the grid with obstacles\n",
    "    for i in range(data.shape[0]):\n",
    "        north, east, alt, d_north, d_east, d_alt = data[i, :]\n",
    "        obs_northmin =np.floor( north - d_north - safe_distance)\n",
    "        obs_northmax =np.ceil( north + d_north + safe_distance)\n",
    "        obs_eastmin = np.floor(east - d_east - safe_distance)\n",
    "        obs_eastmax = np.ceil(east +d_east + safe_distance)\n",
    "        obs_alt = np.ceil(alt+d_alt)\n",
    "\n",
    "        if(obs_alt > drone_altitude):\n",
    "            #then take the normalize grid positons and mark as 1\n",
    "            norm_nothmin = int(np.ceil(obs_northmin - north_min))\n",
    "            norm_northmax = int(np.ceil(obs_northmax - north_min))\n",
    "            norm_eastmin = int(np.ceil(obs_eastmin - east_min))\n",
    "            norm_eastmax = int(np.ceil(obs_eastmax - east_min))\n",
    "            #print(norm_nothmin , norm_northmax , norm_eastmin , norm_eastmax)\n",
    "            for i in range(norm_nothmin , norm_northmax):\n",
    "                for  j in range(norm_eastmin , norm_eastmax):\n",
    "                    if((0<i<north_size) and (0 < j < east_size)):\n",
    "                        grid[i , j]=1\n",
    "                       \n",
    "\n",
    "    return grid"
   ]
  },
  {
   "cell_type": "code",
   "execution_count": 78,
   "metadata": {
    "tags": [
     "outputPrepend",
     "outputPrepend",
     "outputPrepend",
     "outputPrepend",
     "outputPrepend",
     "outputPrepend",
     "outputPrepend"
    ]
   },
   "outputs": [
    {
     "output_type": "stream",
     "name": "stdout",
     "text": "[[0. 0. 0. ... 0. 0. 0.]\n [0. 1. 1. ... 0. 0. 0.]\n [0. 1. 1. ... 0. 0. 0.]\n ...\n [0. 0. 0. ... 0. 0. 0.]\n [0. 0. 0. ... 0. 0. 0.]\n [0. 0. 0. ... 0. 0. 0.]]\n"
    }
   ],
   "source": [
    "grid = create_grid(data, drone_altitude, safe_distance)\n",
    "print(grid)"
   ]
  },
  {
   "cell_type": "code",
   "execution_count": 79,
   "metadata": {},
   "outputs": [
    {
     "output_type": "display_data",
     "data": {
      "text/plain": "<matplotlib.figure.Figure at 0x7fe56b9c4e48>",
      "image/svg+xml": "<?xml version=\"1.0\" encoding=\"utf-8\" standalone=\"no\"?>\n<!DOCTYPE svg PUBLIC \"-//W3C//DTD SVG 1.1//EN\"\n  \"http://www.w3.org/Graphics/SVG/1.1/DTD/svg11.dtd\">\n<!-- Created with matplotlib (http://matplotlib.org/) -->\n<svg height=\"700pt\" version=\"1.1\" viewBox=\"0 0 709 700\" width=\"709pt\" xmlns=\"http://www.w3.org/2000/svg\" xmlns:xlink=\"http://www.w3.org/1999/xlink\">\n <defs>\n  <style type=\"text/css\">\n*{stroke-linecap:butt;stroke-linejoin:round;}\n  </style>\n </defs>\n <g id=\"figure_1\">\n  <g id=\"patch_1\">\n   <path d=\"M 0 700.57625 \nL 709.985625 700.57625 \nL 709.985625 0 \nL 0 0 \nz\n\" style=\"fill:none;\"/>\n  </g>\n  <g id=\"axes_1\">\n   <g id=\"patch_2\">\n    <path d=\"M 46.965625 663.02 \nL 699.285625 663.02 \nL 699.285625 10.7 \nL 46.965625 10.7 \nz\n\" style=\"fill:#ffffff;\"/>\n   </g>\n   <g clip-path=\"url(#pacbcf935fe)\">\n    <image height=\"653\" id=\"imagea036603515\" transform=\"scale(1 -1)translate(0 -653)\" width=\"653\" x=\"46.965625\" xlink:href=\"data:image/png;base64,\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\" y=\"-10.02\"/>\n   </g>\n   <g id=\"matplotlib.axis_1\">\n    <g id=\"xtick_1\">\n     <g id=\"line2d_1\">\n      <defs>\n       <path d=\"M 0 0 \nL 0 3.5 \n\" id=\"m5b173d454c\" style=\"stroke:#000000;stroke-width:0.8;\"/>\n      </defs>\n      <g>\n       <use style=\"stroke:#000000;stroke-width:0.8;\" x=\"47.319762\" xlink:href=\"#m5b173d454c\" y=\"663.02\"/>\n      </g>\n     </g>\n     <g id=\"text_1\">\n      <!-- 0 -->\n      <defs>\n       <path d=\"M 31.78125 66.40625 \nQ 24.171875 66.40625 20.328125 58.90625 \nQ 16.5 51.421875 16.5 36.375 \nQ 16.5 21.390625 20.328125 13.890625 \nQ 24.171875 6.390625 31.78125 6.390625 \nQ 39.453125 6.390625 43.28125 13.890625 \nQ 47.125 21.390625 47.125 36.375 \nQ 47.125 51.421875 43.28125 58.90625 \nQ 39.453125 66.40625 31.78125 66.40625 \nz\nM 31.78125 74.21875 \nQ 44.046875 74.21875 50.515625 64.515625 \nQ 56.984375 54.828125 56.984375 36.375 \nQ 56.984375 17.96875 50.515625 8.265625 \nQ 44.046875 -1.421875 31.78125 -1.421875 \nQ 19.53125 -1.421875 13.0625 8.265625 \nQ 6.59375 17.96875 6.59375 36.375 \nQ 6.59375 54.828125 13.0625 64.515625 \nQ 19.53125 74.21875 31.78125 74.21875 \nz\n\" id=\"DejaVuSans-30\"/>\n      </defs>\n      <g transform=\"translate(44.138512 677.618438)scale(0.1 -0.1)\">\n       <use xlink:href=\"#DejaVuSans-30\"/>\n      </g>\n     </g>\n    </g>\n    <g id=\"xtick_2\">\n     <g id=\"line2d_2\">\n      <g>\n       <use style=\"stroke:#000000;stroke-width:0.8;\" x=\"188.974485\" xlink:href=\"#m5b173d454c\" y=\"663.02\"/>\n      </g>\n     </g>\n     <g id=\"text_2\">\n      <!-- 200 -->\n      <defs>\n       <path d=\"M 19.1875 8.296875 \nL 53.609375 8.296875 \nL 53.609375 0 \nL 7.328125 0 \nL 7.328125 8.296875 \nQ 12.9375 14.109375 22.625 23.890625 \nQ 32.328125 33.6875 34.8125 36.53125 \nQ 39.546875 41.84375 41.421875 45.53125 \nQ 43.3125 49.21875 43.3125 52.78125 \nQ 43.3125 58.59375 39.234375 62.25 \nQ 35.15625 65.921875 28.609375 65.921875 \nQ 23.96875 65.921875 18.8125 64.3125 \nQ 13.671875 62.703125 7.8125 59.421875 \nL 7.8125 69.390625 \nQ 13.765625 71.78125 18.9375 73 \nQ 24.125 74.21875 28.421875 74.21875 \nQ 39.75 74.21875 46.484375 68.546875 \nQ 53.21875 62.890625 53.21875 53.421875 \nQ 53.21875 48.921875 51.53125 44.890625 \nQ 49.859375 40.875 45.40625 35.40625 \nQ 44.1875 33.984375 37.640625 27.21875 \nQ 31.109375 20.453125 19.1875 8.296875 \nz\n\" id=\"DejaVuSans-32\"/>\n      </defs>\n      <g transform=\"translate(179.430735 677.618438)scale(0.1 -0.1)\">\n       <use xlink:href=\"#DejaVuSans-32\"/>\n       <use x=\"63.623047\" xlink:href=\"#DejaVuSans-30\"/>\n       <use x=\"127.246094\" xlink:href=\"#DejaVuSans-30\"/>\n      </g>\n     </g>\n    </g>\n    <g id=\"xtick_3\">\n     <g id=\"line2d_3\">\n      <g>\n       <use style=\"stroke:#000000;stroke-width:0.8;\" x=\"330.629208\" xlink:href=\"#m5b173d454c\" y=\"663.02\"/>\n      </g>\n     </g>\n     <g id=\"text_3\">\n      <!-- 400 -->\n      <defs>\n       <path d=\"M 37.796875 64.3125 \nL 12.890625 25.390625 \nL 37.796875 25.390625 \nz\nM 35.203125 72.90625 \nL 47.609375 72.90625 \nL 47.609375 25.390625 \nL 58.015625 25.390625 \nL 58.015625 17.1875 \nL 47.609375 17.1875 \nL 47.609375 0 \nL 37.796875 0 \nL 37.796875 17.1875 \nL 4.890625 17.1875 \nL 4.890625 26.703125 \nz\n\" id=\"DejaVuSans-34\"/>\n      </defs>\n      <g transform=\"translate(321.085458 677.618438)scale(0.1 -0.1)\">\n       <use xlink:href=\"#DejaVuSans-34\"/>\n       <use x=\"63.623047\" xlink:href=\"#DejaVuSans-30\"/>\n       <use x=\"127.246094\" xlink:href=\"#DejaVuSans-30\"/>\n      </g>\n     </g>\n    </g>\n    <g id=\"xtick_4\">\n     <g id=\"line2d_4\">\n      <g>\n       <use style=\"stroke:#000000;stroke-width:0.8;\" x=\"472.283931\" xlink:href=\"#m5b173d454c\" y=\"663.02\"/>\n      </g>\n     </g>\n     <g id=\"text_4\">\n      <!-- 600 -->\n      <defs>\n       <path d=\"M 33.015625 40.375 \nQ 26.375 40.375 22.484375 35.828125 \nQ 18.609375 31.296875 18.609375 23.390625 \nQ 18.609375 15.53125 22.484375 10.953125 \nQ 26.375 6.390625 33.015625 6.390625 \nQ 39.65625 6.390625 43.53125 10.953125 \nQ 47.40625 15.53125 47.40625 23.390625 \nQ 47.40625 31.296875 43.53125 35.828125 \nQ 39.65625 40.375 33.015625 40.375 \nz\nM 52.59375 71.296875 \nL 52.59375 62.3125 \nQ 48.875 64.0625 45.09375 64.984375 \nQ 41.3125 65.921875 37.59375 65.921875 \nQ 27.828125 65.921875 22.671875 59.328125 \nQ 17.53125 52.734375 16.796875 39.40625 \nQ 19.671875 43.65625 24.015625 45.921875 \nQ 28.375 48.1875 33.59375 48.1875 \nQ 44.578125 48.1875 50.953125 41.515625 \nQ 57.328125 34.859375 57.328125 23.390625 \nQ 57.328125 12.15625 50.6875 5.359375 \nQ 44.046875 -1.421875 33.015625 -1.421875 \nQ 20.359375 -1.421875 13.671875 8.265625 \nQ 6.984375 17.96875 6.984375 36.375 \nQ 6.984375 53.65625 15.1875 63.9375 \nQ 23.390625 74.21875 37.203125 74.21875 \nQ 40.921875 74.21875 44.703125 73.484375 \nQ 48.484375 72.75 52.59375 71.296875 \nz\n\" id=\"DejaVuSans-36\"/>\n      </defs>\n      <g transform=\"translate(462.740181 677.618438)scale(0.1 -0.1)\">\n       <use xlink:href=\"#DejaVuSans-36\"/>\n       <use x=\"63.623047\" xlink:href=\"#DejaVuSans-30\"/>\n       <use x=\"127.246094\" xlink:href=\"#DejaVuSans-30\"/>\n      </g>\n     </g>\n    </g>\n    <g id=\"xtick_5\">\n     <g id=\"line2d_5\">\n      <g>\n       <use style=\"stroke:#000000;stroke-width:0.8;\" x=\"613.938654\" xlink:href=\"#m5b173d454c\" y=\"663.02\"/>\n      </g>\n     </g>\n     <g id=\"text_5\">\n      <!-- 800 -->\n      <defs>\n       <path d=\"M 31.78125 34.625 \nQ 24.75 34.625 20.71875 30.859375 \nQ 16.703125 27.09375 16.703125 20.515625 \nQ 16.703125 13.921875 20.71875 10.15625 \nQ 24.75 6.390625 31.78125 6.390625 \nQ 38.8125 6.390625 42.859375 10.171875 \nQ 46.921875 13.96875 46.921875 20.515625 \nQ 46.921875 27.09375 42.890625 30.859375 \nQ 38.875 34.625 31.78125 34.625 \nz\nM 21.921875 38.8125 \nQ 15.578125 40.375 12.03125 44.71875 \nQ 8.5 49.078125 8.5 55.328125 \nQ 8.5 64.0625 14.71875 69.140625 \nQ 20.953125 74.21875 31.78125 74.21875 \nQ 42.671875 74.21875 48.875 69.140625 \nQ 55.078125 64.0625 55.078125 55.328125 \nQ 55.078125 49.078125 51.53125 44.71875 \nQ 48 40.375 41.703125 38.8125 \nQ 48.828125 37.15625 52.796875 32.3125 \nQ 56.78125 27.484375 56.78125 20.515625 \nQ 56.78125 9.90625 50.3125 4.234375 \nQ 43.84375 -1.421875 31.78125 -1.421875 \nQ 19.734375 -1.421875 13.25 4.234375 \nQ 6.78125 9.90625 6.78125 20.515625 \nQ 6.78125 27.484375 10.78125 32.3125 \nQ 14.796875 37.15625 21.921875 38.8125 \nz\nM 18.3125 54.390625 \nQ 18.3125 48.734375 21.84375 45.5625 \nQ 25.390625 42.390625 31.78125 42.390625 \nQ 38.140625 42.390625 41.71875 45.5625 \nQ 45.3125 48.734375 45.3125 54.390625 \nQ 45.3125 60.0625 41.71875 63.234375 \nQ 38.140625 66.40625 31.78125 66.40625 \nQ 25.390625 66.40625 21.84375 63.234375 \nQ 18.3125 60.0625 18.3125 54.390625 \nz\n\" id=\"DejaVuSans-38\"/>\n      </defs>\n      <g transform=\"translate(604.394904 677.618438)scale(0.1 -0.1)\">\n       <use xlink:href=\"#DejaVuSans-38\"/>\n       <use x=\"63.623047\" xlink:href=\"#DejaVuSans-30\"/>\n       <use x=\"127.246094\" xlink:href=\"#DejaVuSans-30\"/>\n      </g>\n     </g>\n    </g>\n    <g id=\"text_6\">\n     <!-- EAST -->\n     <defs>\n      <path d=\"M 9.8125 72.90625 \nL 55.90625 72.90625 \nL 55.90625 64.59375 \nL 19.671875 64.59375 \nL 19.671875 43.015625 \nL 54.390625 43.015625 \nL 54.390625 34.71875 \nL 19.671875 34.71875 \nL 19.671875 8.296875 \nL 56.78125 8.296875 \nL 56.78125 0 \nL 9.8125 0 \nz\n\" id=\"DejaVuSans-45\"/>\n      <path d=\"M 34.1875 63.1875 \nL 20.796875 26.90625 \nL 47.609375 26.90625 \nz\nM 28.609375 72.90625 \nL 39.796875 72.90625 \nL 67.578125 0 \nL 57.328125 0 \nL 50.6875 18.703125 \nL 17.828125 18.703125 \nL 11.1875 0 \nL 0.78125 0 \nz\n\" id=\"DejaVuSans-41\"/>\n      <path d=\"M 53.515625 70.515625 \nL 53.515625 60.890625 \nQ 47.90625 63.578125 42.921875 64.890625 \nQ 37.9375 66.21875 33.296875 66.21875 \nQ 25.25 66.21875 20.875 63.09375 \nQ 16.5 59.96875 16.5 54.203125 \nQ 16.5 49.359375 19.40625 46.890625 \nQ 22.3125 44.4375 30.421875 42.921875 \nL 36.375 41.703125 \nQ 47.40625 39.59375 52.65625 34.296875 \nQ 57.90625 29 57.90625 20.125 \nQ 57.90625 9.515625 50.796875 4.046875 \nQ 43.703125 -1.421875 29.984375 -1.421875 \nQ 24.8125 -1.421875 18.96875 -0.25 \nQ 13.140625 0.921875 6.890625 3.21875 \nL 6.890625 13.375 \nQ 12.890625 10.015625 18.65625 8.296875 \nQ 24.421875 6.59375 29.984375 6.59375 \nQ 38.421875 6.59375 43.015625 9.90625 \nQ 47.609375 13.234375 47.609375 19.390625 \nQ 47.609375 24.75 44.3125 27.78125 \nQ 41.015625 30.8125 33.5 32.328125 \nL 27.484375 33.5 \nQ 16.453125 35.6875 11.515625 40.375 \nQ 6.59375 45.0625 6.59375 53.421875 \nQ 6.59375 63.09375 13.40625 68.65625 \nQ 20.21875 74.21875 32.171875 74.21875 \nQ 37.3125 74.21875 42.625 73.28125 \nQ 47.953125 72.359375 53.515625 70.515625 \nz\n\" id=\"DejaVuSans-53\"/>\n      <path d=\"M -0.296875 72.90625 \nL 61.375 72.90625 \nL 61.375 64.59375 \nL 35.5 64.59375 \nL 35.5 0 \nL 25.59375 0 \nL 25.59375 64.59375 \nL -0.296875 64.59375 \nz\n\" id=\"DejaVuSans-54\"/>\n     </defs>\n     <g transform=\"translate(360.317813 691.296562)scale(0.1 -0.1)\">\n      <use xlink:href=\"#DejaVuSans-45\"/>\n      <use x=\"63.183594\" xlink:href=\"#DejaVuSans-41\"/>\n      <use x=\"131.591797\" xlink:href=\"#DejaVuSans-53\"/>\n      <use x=\"195.068359\" xlink:href=\"#DejaVuSans-54\"/>\n     </g>\n    </g>\n   </g>\n   <g id=\"matplotlib.axis_2\">\n    <g id=\"ytick_1\">\n     <g id=\"line2d_6\">\n      <defs>\n       <path d=\"M 0 0 \nL -3.5 0 \n\" id=\"m11af046b41\" style=\"stroke:#000000;stroke-width:0.8;\"/>\n      </defs>\n      <g>\n       <use style=\"stroke:#000000;stroke-width:0.8;\" x=\"46.965625\" xlink:href=\"#m11af046b41\" y=\"662.665863\"/>\n      </g>\n     </g>\n     <g id=\"text_7\">\n      <!-- 0 -->\n      <g transform=\"translate(33.603125 666.465082)scale(0.1 -0.1)\">\n       <use xlink:href=\"#DejaVuSans-30\"/>\n      </g>\n     </g>\n    </g>\n    <g id=\"ytick_2\">\n     <g id=\"line2d_7\">\n      <g>\n       <use style=\"stroke:#000000;stroke-width:0.8;\" x=\"46.965625\" xlink:href=\"#m11af046b41\" y=\"521.01114\"/>\n      </g>\n     </g>\n     <g id=\"text_8\">\n      <!-- 200 -->\n      <g transform=\"translate(20.878125 524.810359)scale(0.1 -0.1)\">\n       <use xlink:href=\"#DejaVuSans-32\"/>\n       <use x=\"63.623047\" xlink:href=\"#DejaVuSans-30\"/>\n       <use x=\"127.246094\" xlink:href=\"#DejaVuSans-30\"/>\n      </g>\n     </g>\n    </g>\n    <g id=\"ytick_3\">\n     <g id=\"line2d_8\">\n      <g>\n       <use style=\"stroke:#000000;stroke-width:0.8;\" x=\"46.965625\" xlink:href=\"#m11af046b41\" y=\"379.356417\"/>\n      </g>\n     </g>\n     <g id=\"text_9\">\n      <!-- 400 -->\n      <g transform=\"translate(20.878125 383.155636)scale(0.1 -0.1)\">\n       <use xlink:href=\"#DejaVuSans-34\"/>\n       <use x=\"63.623047\" xlink:href=\"#DejaVuSans-30\"/>\n       <use x=\"127.246094\" xlink:href=\"#DejaVuSans-30\"/>\n      </g>\n     </g>\n    </g>\n    <g id=\"ytick_4\">\n     <g id=\"line2d_9\">\n      <g>\n       <use style=\"stroke:#000000;stroke-width:0.8;\" x=\"46.965625\" xlink:href=\"#m11af046b41\" y=\"237.701694\"/>\n      </g>\n     </g>\n     <g id=\"text_10\">\n      <!-- 600 -->\n      <g transform=\"translate(20.878125 241.500913)scale(0.1 -0.1)\">\n       <use xlink:href=\"#DejaVuSans-36\"/>\n       <use x=\"63.623047\" xlink:href=\"#DejaVuSans-30\"/>\n       <use x=\"127.246094\" xlink:href=\"#DejaVuSans-30\"/>\n      </g>\n     </g>\n    </g>\n    <g id=\"ytick_5\">\n     <g id=\"line2d_10\">\n      <g>\n       <use style=\"stroke:#000000;stroke-width:0.8;\" x=\"46.965625\" xlink:href=\"#m11af046b41\" y=\"96.046971\"/>\n      </g>\n     </g>\n     <g id=\"text_11\">\n      <!-- 800 -->\n      <g transform=\"translate(20.878125 99.846189)scale(0.1 -0.1)\">\n       <use xlink:href=\"#DejaVuSans-38\"/>\n       <use x=\"63.623047\" xlink:href=\"#DejaVuSans-30\"/>\n       <use x=\"127.246094\" xlink:href=\"#DejaVuSans-30\"/>\n      </g>\n     </g>\n    </g>\n    <g id=\"text_12\">\n     <!-- NORTH -->\n     <defs>\n      <path d=\"M 9.8125 72.90625 \nL 23.09375 72.90625 \nL 55.421875 11.921875 \nL 55.421875 72.90625 \nL 64.984375 72.90625 \nL 64.984375 0 \nL 51.703125 0 \nL 19.390625 60.984375 \nL 19.390625 0 \nL 9.8125 0 \nz\n\" id=\"DejaVuSans-4e\"/>\n      <path d=\"M 39.40625 66.21875 \nQ 28.65625 66.21875 22.328125 58.203125 \nQ 16.015625 50.203125 16.015625 36.375 \nQ 16.015625 22.609375 22.328125 14.59375 \nQ 28.65625 6.59375 39.40625 6.59375 \nQ 50.140625 6.59375 56.421875 14.59375 \nQ 62.703125 22.609375 62.703125 36.375 \nQ 62.703125 50.203125 56.421875 58.203125 \nQ 50.140625 66.21875 39.40625 66.21875 \nz\nM 39.40625 74.21875 \nQ 54.734375 74.21875 63.90625 63.9375 \nQ 73.09375 53.65625 73.09375 36.375 \nQ 73.09375 19.140625 63.90625 8.859375 \nQ 54.734375 -1.421875 39.40625 -1.421875 \nQ 24.03125 -1.421875 14.8125 8.828125 \nQ 5.609375 19.09375 5.609375 36.375 \nQ 5.609375 53.65625 14.8125 63.9375 \nQ 24.03125 74.21875 39.40625 74.21875 \nz\n\" id=\"DejaVuSans-4f\"/>\n      <path d=\"M 44.390625 34.1875 \nQ 47.5625 33.109375 50.5625 29.59375 \nQ 53.5625 26.078125 56.59375 19.921875 \nL 66.609375 0 \nL 56 0 \nL 46.6875 18.703125 \nQ 43.0625 26.03125 39.671875 28.421875 \nQ 36.28125 30.8125 30.421875 30.8125 \nL 19.671875 30.8125 \nL 19.671875 0 \nL 9.8125 0 \nL 9.8125 72.90625 \nL 32.078125 72.90625 \nQ 44.578125 72.90625 50.734375 67.671875 \nQ 56.890625 62.453125 56.890625 51.90625 \nQ 56.890625 45.015625 53.6875 40.46875 \nQ 50.484375 35.9375 44.390625 34.1875 \nz\nM 19.671875 64.796875 \nL 19.671875 38.921875 \nL 32.078125 38.921875 \nQ 39.203125 38.921875 42.84375 42.21875 \nQ 46.484375 45.515625 46.484375 51.90625 \nQ 46.484375 58.296875 42.84375 61.546875 \nQ 39.203125 64.796875 32.078125 64.796875 \nz\n\" id=\"DejaVuSans-52\"/>\n      <path d=\"M 9.8125 72.90625 \nL 19.671875 72.90625 \nL 19.671875 43.015625 \nL 55.515625 43.015625 \nL 55.515625 72.90625 \nL 65.375 72.90625 \nL 65.375 0 \nL 55.515625 0 \nL 55.515625 34.71875 \nL 19.671875 34.71875 \nL 19.671875 0 \nL 9.8125 0 \nz\n\" id=\"DejaVuSans-48\"/>\n     </defs>\n     <g transform=\"translate(14.798438 354.819375)rotate(-90)scale(0.1 -0.1)\">\n      <use xlink:href=\"#DejaVuSans-4e\"/>\n      <use x=\"74.804688\" xlink:href=\"#DejaVuSans-4f\"/>\n      <use x=\"153.515625\" xlink:href=\"#DejaVuSans-52\"/>\n      <use x=\"222.888672\" xlink:href=\"#DejaVuSans-54\"/>\n      <use x=\"283.972656\" xlink:href=\"#DejaVuSans-48\"/>\n     </g>\n    </g>\n   </g>\n   <g id=\"patch_3\">\n    <path d=\"M 46.965625 663.02 \nL 46.965625 10.7 \n\" style=\"fill:none;stroke:#000000;stroke-linecap:square;stroke-linejoin:miter;stroke-width:0.8;\"/>\n   </g>\n   <g id=\"patch_4\">\n    <path d=\"M 699.285625 663.02 \nL 699.285625 10.7 \n\" style=\"fill:none;stroke:#000000;stroke-linecap:square;stroke-linejoin:miter;stroke-width:0.8;\"/>\n   </g>\n   <g id=\"patch_5\">\n    <path d=\"M 46.965625 663.02 \nL 699.285625 663.02 \n\" style=\"fill:none;stroke:#000000;stroke-linecap:square;stroke-linejoin:miter;stroke-width:0.8;\"/>\n   </g>\n   <g id=\"patch_6\">\n    <path d=\"M 46.965625 10.7 \nL 699.285625 10.7 \n\" style=\"fill:none;stroke:#000000;stroke-linecap:square;stroke-linejoin:miter;stroke-width:0.8;\"/>\n   </g>\n  </g>\n </g>\n <defs>\n  <clipPath id=\"pacbcf935fe\">\n   <rect height=\"652.32\" width=\"652.32\" x=\"46.965625\" y=\"10.7\"/>\n  </clipPath>\n </defs>\n</svg>\n",
      "image/png": "[encoded data removed]"
     },
     "metadata": {
      "needs_background": "light"
     }
    }
   ],
   "source": [
    "# equivalent to\n",
    "# plt.imshow(np.flip(grid, 0))\n",
    "# NOTE: we're placing the origin in the lower lefthand corner here\n",
    "# so that north is up, if you didn't do this north would be positive down\n",
    "plt.imshow(grid, origin='lower') \n",
    "\n",
    "plt.xlabel('EAST')\n",
    "plt.ylabel('NORTH')\n",
    "plt.show()"
   ]
  },
  {
   "cell_type": "markdown",
   "metadata": {},
   "source": [
    "Play around with the `drone_altitude` and `safe_distance` values to get a feel for how it changes the map."
   ]
  },
  {
   "cell_type": "markdown",
   "metadata": {},
   "source": [
    "[solution](/notebooks/Configuration-Space-Solution.ipynb)"
   ]
  },
  {
   "cell_type": "code",
   "execution_count": null,
   "metadata": {},
   "outputs": [],
   "source": []
  }
 ],
 "metadata": {
  "kernelspec": {
   "display_name": "Python 3",
   "language": "python",
   "name": "python3"
  },
  "language_info": {
   "codemirror_mode": {
    "name": "ipython",
    "version": 3
   },
   "file_extension": ".py",
   "mimetype": "text/x-python",
   "name": "python",
   "nbconvert_exporter": "python",
   "pygments_lexer": "ipython3",
   "version": "3.6.3-final"
  }
 },
 "nbformat": 4,
 "nbformat_minor": 2
}