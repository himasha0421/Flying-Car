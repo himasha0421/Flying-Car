{
 "cells": [
  {
   "cell_type": "markdown",
   "metadata": {},
   "source": [
    "## Euler Rotations\n",
    "\n",
    "In this notebook you'll explore Euler rotations and get a feel for why the order of rotations matters.\n",
    "\n",
    "Euler rotations as we define them in this program are counterclockwise about the axes of the vehicle body frame, where:\n",
    "\n",
    "- *Roll* - $\\phi$ is about the x-axis\n",
    "- *Pitch* - $\\theta$ is about the y-axis\n",
    "- *Yaw* - $\\psi$ is about the z-axis\n",
    "\n",
    "As you'll see the same set of rotation transformations, applied in a different order can produce a very different final result!"
   ]
  },
  {
   "cell_type": "code",
   "execution_count": 1,
   "metadata": {},
   "outputs": [],
   "source": [
    "import matplotlib.pyplot as plt \n",
    "from mpl_toolkits.mplot3d import Axes3D\n",
    "\n",
    "import numpy as np\n",
    "from enum import Enum\n",
    "\n",
    "%matplotlib inline\n",
    "np.set_printoptions(precision=3, suppress=True)"
   ]
  },
  {
   "cell_type": "code",
   "execution_count": 2,
   "metadata": {},
   "outputs": [],
   "source": [
    "plt.rcParams[\"figure.figsize\"] = [12, 12]"
   ]
  },
  {
   "cell_type": "code",
   "execution_count": 42,
   "metadata": {},
   "outputs": [],
   "source": [
    "class Rotation(Enum):\n",
    "    ROLL = 0\n",
    "    PITCH = 1\n",
    "    YAW = 2  \n",
    "\n",
    "\n",
    "class EulerRotation:\n",
    "    \n",
    "    def __init__(self, rotations):\n",
    "        \"\"\"\n",
    "        `rotations` is a list of 2-element tuples where the\n",
    "        first element is the rotation kind and the second element\n",
    "        is angle in degrees.\n",
    "        \n",
    "        Ex:\n",
    "        \n",
    "            [(Rotation.ROLL, 45), (Rotation.YAW, 32), (Rotation.PITCH, 55)]\n",
    "            \n",
    "        \"\"\"\n",
    "        self._rotations = rotations\n",
    "        self._rotation_map = {Rotation.ROLL :(0, self.roll), Rotation.PITCH : (1,self.pitch), Rotation.YAW : (2,self.yaw)}\n",
    "\n",
    "    def roll(self, phi):\n",
    "        \"\"\"Returns a rotation matrix along the roll axis\"\"\"\n",
    "        R_roll = np.array([\n",
    "            [1 , 0 , 0 ],\n",
    "            [0 , np.cos(phi) , -np.sin(phi)],\n",
    "            [0 , np.sin(phi) , np.cos(phi)]\n",
    "        ])\n",
    "        return R_roll\n",
    "    \n",
    "    def pitch(self, theta):\n",
    "        \"\"\"Returns the rotation matrix along the pitch axis\"\"\"\n",
    "        R_pitch = np.array([\n",
    "            [np.cos(theta) , 0 , np.sin(theta)],\n",
    "            [0 , 1 , 0],\n",
    "            [-np.sin(theta) , 0 , np.cos(theta)]\n",
    "        ])\n",
    "        return R_pitch\n",
    "\n",
    "    def yaw(self, psi):\n",
    "        \"\"\"Returns the rotation matrix along the yaw axis\"\"\"\n",
    "        R_yaw=np.array([\n",
    "            [np.cos(psi) , -np.sin(psi) , 0],\n",
    "            [np.sin(psi) , np.cos(psi) , 0],\n",
    "            [0 , 0 ,1]\n",
    "        ])\n",
    "        return R_yaw\n",
    "\n",
    "    def rotate(self):\n",
    "        angle=1.0\n",
    "        \"\"\"Applies the rotations in sequential order\"\"\"\n",
    "        for rotation in self._rotations:\n",
    "            axis=rotation[0]\n",
    "            angle=rotation[1]\n",
    "            angle_rad=np.deg2rad(angle)\n",
    "            (order,func)= self._rotation_map[axis]\n",
    "            if(order ==0):\n",
    "                roll = func.__call__(angle_rad)\n",
    "                print(\"roll\",roll)\n",
    "            if(order==1):\n",
    "                pitch = func.__call__(angle_rad)\n",
    "                print(\"Pitch\",pitch)\n",
    "            if(order==2):\n",
    "                yaw = self.yaw(angle_rad)\n",
    "                print(\"yaw\",yaw)\n",
    "            \n",
    "        Mat = yaw @ pitch @ roll\n",
    "        return Mat"
   ]
  },
  {
   "cell_type": "markdown",
   "metadata": {},
   "source": [
    "Below you'll form a sequence of rotations. The rotation matrix `R` is the mapping of performing the rotations in sequential order. Multiplying a vector by `R` will perform the rotations on that vector."
   ]
  },
  {
   "cell_type": "code",
   "execution_count": 43,
   "metadata": {},
   "outputs": [
    {
     "output_type": "stream",
     "name": "stdout",
     "text": "roll [[ 1.     0.     0.   ]\n [ 0.     0.906 -0.423]\n [ 0.     0.423  0.906]]\nPitch [[ 0.259  0.     0.966]\n [ 0.     1.     0.   ]\n [-0.966  0.     0.259]]\nyaw [[ 0. -1.  0.]\n [ 1.  0.  0.]\n [ 0.  0.  1.]]\nRotation matrix ...\n[[ 0.    -0.906  0.423]\n [ 0.259  0.408  0.875]\n [-0.966  0.109  0.235]]\n"
    }
   ],
   "source": [
    "# Test your code by passing in some rotation values\n",
    "rotations = [\n",
    "    (Rotation.ROLL, 25),\n",
    "    (Rotation.PITCH, 75),\n",
    "    (Rotation.YAW,90 ),\n",
    "]\n",
    "\n",
    "R = EulerRotation(rotations).rotate()\n",
    "print('Rotation matrix ...')\n",
    "print(R)\n",
    "# Should print\n",
    "# Rotation matrix ...\n",
    "# [[ 0.    -0.906  0.423]\n",
    "#  [ 0.259  0.408  0.875]\n",
    "#  [-0.966  0.109  0.235]]"
   ]
  },
  {
   "cell_type": "markdown",
   "metadata": {},
   "source": [
    "Go back and change the order of the rotations, you should get back a rotation matrix with different values."
   ]
  },
  {
   "cell_type": "markdown",
   "metadata": {},
   "source": [
    "### Same Rotations, Different Order\n",
    "\n",
    "Now calculate three different rotations matrices. They should stem from the same set of Euler rotations, just in differing order."
   ]
  },
  {
   "cell_type": "code",
   "execution_count": null,
   "metadata": {},
   "outputs": [],
   "source": [
    "# TODO: calculate 3 rotation matrices.\n",
    "R1 = None\n",
    "R2 = None\n",
    "R3 = None"
   ]
  },
  {
   "cell_type": "markdown",
   "metadata": {},
   "source": [
    "### Seeing is Believing"
   ]
  },
  {
   "cell_type": "markdown",
   "metadata": {},
   "source": [
    "It's clear the three rotation matrices are different, but, in order to get an deeper understanding let's plot the impact of the rotations."
   ]
  },
  {
   "cell_type": "code",
   "execution_count": null,
   "metadata": {},
   "outputs": [],
   "source": [
    "# unit vector along x-axis\n",
    "v = np.array([1, 0, 0])"
   ]
  },
  {
   "cell_type": "markdown",
   "metadata": {},
   "source": [
    "Apply the rotations to `v`. Feel free to change the values of this input vector."
   ]
  },
  {
   "cell_type": "code",
   "execution_count": null,
   "metadata": {},
   "outputs": [],
   "source": [
    "# TODO: calculate the new rotated versions of `v`.\n",
    "rv1 = None\n",
    "rv2 = None\n",
    "rv3 = None\n",
    "# rv = np.dot(R, v)"
   ]
  },
  {
   "cell_type": "markdown",
   "metadata": {},
   "source": [
    "Plotting time ..."
   ]
  },
  {
   "cell_type": "code",
   "execution_count": null,
   "metadata": {},
   "outputs": [],
   "source": [
    "fig = plt.figure()\n",
    "ax = fig.gca(projection='3d')\n",
    "\n",
    "# axes (shown in black)\n",
    "ax.quiver(0, 0, 0, 1.5, 0, 0, color='black', arrow_length_ratio=0.15)\n",
    "ax.quiver(0, 0, 0, 0, 1.5, 0, color='black', arrow_length_ratio=0.15)\n",
    "ax.quiver(0, 0, 0, 0, 0, 1.5, color='black', arrow_length_ratio=0.15)\n",
    "\n",
    "\n",
    "# Original Vector (shown in blue)\n",
    "ax.quiver(0, 0, 0, v[0], v[1], v[2], color='blue', arrow_length_ratio=0.15)\n",
    "\n",
    "# Rotated Vectors (shown in red)\n",
    "ax.quiver(0, 0, 0, rv1[0], rv1[1], rv1[2], color='red', arrow_length_ratio=0.15)\n",
    "ax.quiver(0, 0, 0, rv2[0], rv2[1], rv2[2], color='purple', arrow_length_ratio=0.15)\n",
    "ax.quiver(0, 0, 0, rv3[0], rv3[1], rv3[2], color='green', arrow_length_ratio=0.15)\n",
    "\n",
    "ax.set_xlim3d(-1, 1)\n",
    "ax.set_ylim3d(1, -1)\n",
    "ax.set_zlim3d(1, -1)\n",
    "\n",
    "ax.set_xlabel('X')\n",
    "ax.set_ylabel('Y')\n",
    "ax.set_zlabel('Z')\n",
    "\n",
    "plt.show()"
   ]
  },
  {
   "cell_type": "markdown",
   "metadata": {},
   "source": [
    "### Gimbal Lock\n",
    "To demonstrate gimbal lock try starting a series of rotations with a pitch of +/- 90 degrees, then see what happens when you try to yaw. Try the yaw first and see what happens!"
   ]
  },
  {
   "cell_type": "markdown",
   "metadata": {},
   "source": [
    "[solution](/notebooks/Rotations-Solution.ipynb)"
   ]
  },
  {
   "cell_type": "code",
   "execution_count": null,
   "metadata": {},
   "outputs": [],
   "source": []
  }
 ],
 "metadata": {
  "kernelspec": {
   "display_name": "Python 3",
   "language": "python",
   "name": "python3"
  },
  "language_info": {
   "codemirror_mode": {
    "name": "ipython",
    "version": 3
   },
   "file_extension": ".py",
   "mimetype": "text/x-python",
   "name": "python",
   "nbconvert_exporter": "python",
   "pygments_lexer": "ipython3",
   "version": "3.6.3-final"
  }
 },
 "nbformat": 4,
 "nbformat_minor": 2
}