{
 "cells": [
  {
   "cell_type": "markdown",
   "metadata": {},
   "source": [
    "# Random Sampling\n",
    "\n",
    "In this notebook you'll work with the obstacle's polygon representation itself.\n",
    "\n",
    "Your tasks will be:\n",
    "\n",
    "1. Create polygons.\n",
    "2. Sample random 3D points.\n",
    "3. Remove points contained by an obstacle polygon.\n",
    "\n",
    "Recall, a point $(x, y, z)$ collides with a polygon if the $(x, y)$ coordinates are contained by the polygon and the $z$ coordinate (height) is less than the height of the polygon."
   ]
  },
  {
   "cell_type": "code",
   "execution_count": 1,
   "metadata": {},
   "outputs": [],
   "source": [
    "import time\n",
    "import numpy as np\n",
    "import matplotlib.pyplot as plt\n",
    "from mpl_toolkits.mplot3d import Axes3D\n",
    "from shapely.geometry import Polygon, Point\n",
    "%matplotlib inline \n",
    "\n"
   ]
  },
  {
   "cell_type": "code",
   "execution_count": 2,
   "metadata": {},
   "outputs": [],
   "source": [
    "plt.rcParams['figure.figsize'] = 12, 12"
   ]
  },
  {
   "cell_type": "code",
   "execution_count": 3,
   "metadata": {},
   "outputs": [
    {
     "name": "stdout",
     "output_type": "stream",
     "text": [
      "[[-310.2389   -439.2315     85.5         5.          5.         85.5     ]\n",
      " [-300.2389   -439.2315     85.5         5.          5.         85.5     ]\n",
      " [-290.2389   -439.2315     85.5         5.          5.         85.5     ]\n",
      " ..., \n",
      " [ 257.8061    425.1645      1.75852     1.292725    1.292725    1.944791]\n",
      " [ 293.9967    368.3391      3.557666    1.129456    1.129456    3.667319]\n",
      " [ 281.5162    354.4156      4.999351    1.053772    1.053772    4.950246]]\n"
     ]
    }
   ],
   "source": [
    "# This is the same obstacle data from the previous lesson.\n",
    "filename = 'colliders.csv'\n",
    "data = np.loadtxt(filename, delimiter=',', dtype='Float64', skiprows=2)\n",
    "print(data)"
   ]
  },
  {
   "cell_type": "markdown",
   "metadata": {},
   "source": [
    "## Create Polygons"
   ]
  },
  {
   "cell_type": "code",
   "execution_count": 10,
   "metadata": {},
   "outputs": [],
   "source": [
    "def extract_polygons(data):\n",
    "\n",
    "    polygons = []\n",
    "    for i in range(data.shape[0]):\n",
    "        north, east, alt, d_north, d_east, d_alt = data[i, :]\n",
    "        \n",
    "        # TODO: Extract the 4 corners of the obstacle\n",
    "        north_low=np.floor(north - d_north)\n",
    "        north_high=np.ceil(north+d_north)\n",
    "        \n",
    "        east_low=np.floor(east - d_east)\n",
    "        east_high=np.ceil(east+d_east)\n",
    "        # \n",
    "        # NOTE: The order of the points matters since\n",
    "        # `shapely` draws the sequentially from point to point.\n",
    "        #\n",
    "        # If the area of the polygon is 0 you've likely got a weird\n",
    "        # order.\n",
    "        bot_right=(north_low,east_high)\n",
    "        bot_left=(north_low,east_low)\n",
    "        top_right=(north_high,east_high)\n",
    "        top_left=(north_high,east_low)\n",
    "        corners = [bot_left,bot_right,top_right,top_left]\n",
    "        \n",
    "        # TODO: Compute the height of the polygon\n",
    "        height = int(np.ceil(alt+d_alt))\n",
    "\n",
    "        # TODO: Once you've defined corners, define polygons\n",
    "        pol = Polygon(corners)\n",
    "        polygons.append((pol,height))\n",
    "        #p = Polygon(corners)\n",
    "        #polygons.append((p, height))\n",
    "\n",
    "    return polygons\n"
   ]
  },
  {
   "cell_type": "code",
   "execution_count": 11,
   "metadata": {},
   "outputs": [],
   "source": [
    "polygons = extract_polygons(data)"
   ]
  },
  {
   "cell_type": "markdown",
   "metadata": {},
   "source": [
    "# Sampling 3D Points\n",
    "\n",
    "Now that we have the extracted the polygons, we need to sample random 3D points. Currently we don't know suitable ranges for x, y, and z. Let's figure out the max and min values for each dimension."
   ]
  },
  {
   "cell_type": "code",
   "execution_count": 12,
   "metadata": {},
   "outputs": [
    {
     "name": "stdout",
     "output_type": "stream",
     "text": [
      "X\n",
      "min = -315.2389, max = 604.7611\n",
      "\n",
      "Y\n",
      "min = -444.2315, max = 475.7685\n",
      "\n",
      "Z\n",
      "min = 0, max = 10\n"
     ]
    }
   ],
   "source": [
    "xmin = np.min(data[:, 0] - data[:, 3])\n",
    "xmax = np.max(data[:, 0] + data[:, 3])\n",
    "\n",
    "ymin = np.min(data[:, 1] - data[:, 4])\n",
    "ymax = np.max(data[:, 1] + data[:, 4])\n",
    "\n",
    "zmin = 0\n",
    "# Limit the z axis for the visualization\n",
    "zmax = 10\n",
    "\n",
    "print(\"X\")\n",
    "print(\"min = {0}, max = {1}\\n\".format(xmin, xmax))\n",
    "\n",
    "print(\"Y\")\n",
    "print(\"min = {0}, max = {1}\\n\".format(ymin, ymax))\n",
    "\n",
    "print(\"Z\")\n",
    "print(\"min = {0}, max = {1}\".format(zmin, zmax))"
   ]
  },
  {
   "cell_type": "markdown",
   "metadata": {},
   "source": [
    "Next, it's time to sample points. All that's left is picking the distribution and number of samples. The uniform distribution makes sense in this situation since we we'd like to encourage searching the whole space."
   ]
  },
  {
   "cell_type": "code",
   "execution_count": 13,
   "metadata": {},
   "outputs": [],
   "source": [
    "num_samples = 100\n",
    "\n",
    "xvals = np.random.uniform(xmin, xmax, num_samples)\n",
    "yvals = np.random.uniform(ymin, ymax, num_samples)\n",
    "zvals = np.random.uniform(zmin, zmax, num_samples)\n",
    "\n",
    "samples = list(zip(xvals, yvals, zvals))"
   ]
  },
  {
   "cell_type": "code",
   "execution_count": 14,
   "metadata": {},
   "outputs": [
    {
     "data": {
      "text/plain": [
       "[(-214.96810412736204, -233.3023217429419, 2.8620238114727856),\n",
       " (-311.21386433265786, 440.09594807593533, 8.536196316693804),\n",
       " (115.36856142660213, 34.768352553513694, 8.6261356890476328),\n",
       " (22.731233979377407, 460.230375547378, 5.3111990779203779),\n",
       " (287.04175634197708, -3.3245145550402526, 8.6938974145980534),\n",
       " (389.15958506005614, 70.895313320642231, 4.1100634769300814),\n",
       " (-188.31124849281053, 217.14055926459309, 0.016476507659239914),\n",
       " (-84.524974738860692, -205.8812643854809, 2.0305542858251124),\n",
       " (-51.492471163220841, 212.62878487679995, 2.4116632944291085),\n",
       " (564.764313095136, -350.83934931940973, 3.8319898594840751)]"
      ]
     },
     "execution_count": 14,
     "metadata": {},
     "output_type": "execute_result"
    }
   ],
   "source": [
    "samples[:10]"
   ]
  },
  {
   "cell_type": "markdown",
   "metadata": {},
   "source": [
    "## Removing Points Colliding With Obstacles\n",
    "\n",
    "Prior to remove a point we must determine whether it collides with any obstacle. Complete the `collides` function below. It should return `True` if the point collides with *any* obstacle and `False` if no collision is detected."
   ]
  },
  {
   "cell_type": "code",
   "execution_count": 17,
   "metadata": {},
   "outputs": [],
   "source": [
    "def collides(polygons, point):   \n",
    "    # TODO: Determine whether the point collides\n",
    "    # with any obstacles.\n",
    "    for poly in polygons:\n",
    "        polygon = poly[0]\n",
    "        height=poly[1]\n",
    "        if(polygon.contains(Point(point)) and height >=point[2]):\n",
    "            return True\n",
    "    \n",
    "    return False"
   ]
  },
  {
   "cell_type": "markdown",
   "metadata": {},
   "source": [
    "Use `collides` for all points in the sample."
   ]
  },
  {
   "cell_type": "code",
   "execution_count": 18,
   "metadata": {},
   "outputs": [
    {
     "name": "stdout",
     "output_type": "stream",
     "text": [
      "Time taken {0} seconds ... 6.9376537799835205\n"
     ]
    }
   ],
   "source": [
    "t0 = time.time()\n",
    "to_keep = []\n",
    "for point in samples:\n",
    "    if not collides(polygons, point):\n",
    "        to_keep.append(point)\n",
    "time_taken = time.time() - t0\n",
    "print(\"Time taken {0} seconds ...\", time_taken)"
   ]
  },
  {
   "cell_type": "code",
   "execution_count": 19,
   "metadata": {},
   "outputs": [
    {
     "name": "stdout",
     "output_type": "stream",
     "text": [
      "65\n"
     ]
    }
   ],
   "source": [
    "print(len(to_keep))"
   ]
  },
  {
   "cell_type": "markdown",
   "metadata": {},
   "source": [
    "## Points Visualization"
   ]
  },
  {
   "cell_type": "code",
   "execution_count": 20,
   "metadata": {},
   "outputs": [],
   "source": [
    "from grid import create_grid\n",
    "grid = create_grid(data, zmax, 1)"
   ]
  },
  {
   "cell_type": "code",
   "execution_count": 21,
   "metadata": {},
   "outputs": [
    {
     "data": {
      "image/png": "[encoded data removed]",
      "text/plain": [
       "<matplotlib.figure.Figure at 0x7f1899186198>"
      ]
     },
     "metadata": {
      "needs_background": "light"
     },
     "output_type": "display_data"
    }
   ],
   "source": [
    "fig = plt.figure()\n",
    "\n",
    "plt.imshow(grid, cmap='Greys', origin='lower')\n",
    "\n",
    "nmin = np.min(data[:, 0])\n",
    "emin = np.min(data[:, 1])\n",
    "\n",
    "# draw points\n",
    "all_pts = np.array(to_keep)\n",
    "north_vals = all_pts[:,0]\n",
    "east_vals = all_pts[:,1]\n",
    "plt.scatter(east_vals - emin, north_vals - nmin, c='red')\n",
    "\n",
    "plt.ylabel('NORTH')\n",
    "plt.xlabel('EAST')\n",
    "\n",
    "plt.show()"
   ]
  },
  {
   "cell_type": "markdown",
   "metadata": {},
   "source": [
    "[Solution](/notebooks/Random-Sampling-Solution.ipynb)"
   ]
  },
  {
   "cell_type": "markdown",
   "metadata": {},
   "source": [
    "## Epilogue\n",
    "\n",
    "You may have noticed removing points can be quite lengthy. In the implementation provided here we're naively checking to see if the point collides with each polygon when in reality it can only collide with one, the one that's closest to the point. The question then becomes \n",
    "\n",
    "\"How do we efficiently find the closest polygon to the point?\"\n",
    "\n",
    "One such approach is to use a *[k-d tree](https://en.wikipedia.org/wiki/K-d_tree)*, a space-partitioning data structure which allows search queries in $O(log(n))$. The *k-d tree* achieves this by cutting the search space in half on each step of a query.\n",
    "\n",
    "This would bring the total algorithm time down to $O(m * log(n))$ from $O(m*n)$.\n",
    "\n",
    "The scikit-learn library has an efficient implementation [readily available](http://scikit-learn.org/stable/modules/generated/sklearn.neighbors.KDTree.html#sklearn.neighbors.KDTree)."
   ]
  },
  {
   "cell_type": "code",
   "execution_count": null,
   "metadata": {},
   "outputs": [],
   "source": []
  },
  {
   "cell_type": "code",
   "execution_count": null,
   "metadata": {},
   "outputs": [],
   "source": []
  }
 ],
 "metadata": {
  "kernelspec": {
   "display_name": "Python 3",
   "language": "python",
   "name": "python3"
  },
  "language_info": {
   "codemirror_mode": {
    "name": "ipython",
    "version": 3
   },
   "file_extension": ".py",
   "mimetype": "text/x-python",
   "name": "python",
   "nbconvert_exporter": "python",
   "pygments_lexer": "ipython3",
   "version": "3.6.3"
  }
 },
 "nbformat": 4,
 "nbformat_minor": 2
}
